{
 "cells": [
  {
   "cell_type": "markdown",
   "id": "basic-lafayette",
   "metadata": {},
   "source": [
    "## generate screenshot data"
   ]
  },
  {
   "cell_type": "code",
   "execution_count": 1,
   "id": "bound-charleston",
   "metadata": {},
   "outputs": [],
   "source": [
    "from cairosvg import svg2png\n",
    "import chess\n",
    "import chess.pgn\n",
    "import chess.svg\n",
    "import json\n",
    "from random import randint\n",
    "from pathlib import Path\n",
    "from IPython import display\n",
    "from PIL import Image, ImageDraw\n",
    "from dataclasses import dataclass\n",
    "from typing import List, Dict, Tuple\n",
    "from pdb import set_trace\n",
    "from itertools import zip_longest\n",
    "import pandas as pd\n",
    "from io import BytesIO"
   ]
  },
  {
   "cell_type": "raw",
   "id": "interstate-contribution",
   "metadata": {},
   "source": [
    "input: \n",
    "pgn\n",
    "screenshots"
   ]
  },
  {
   "cell_type": "code",
   "execution_count": 2,
   "id": "amber-animal",
   "metadata": {},
   "outputs": [],
   "source": [
    "class BoardGenerator:\n",
    "    def __init__(self, pgn):\n",
    "        self.pgn = open(pgn)\n",
    "    \n",
    "    def get_boards(self):\n",
    "        boards = []\n",
    "        for i in range(30):\n",
    "            game = chess.pgn.read_game(self.pgn)\n",
    "            board = game.board()\n",
    "            for i, move in enumerate(game.mainline_moves()):\n",
    "                board.push(move)\n",
    "                boards.append(board.copy())\n",
    "\n",
    "        # todo: use yield\n",
    "        return boards"
   ]
  },
  {
   "cell_type": "code",
   "execution_count": 15,
   "id": "grave-assist",
   "metadata": {},
   "outputs": [],
   "source": [
    "pgn = Path(\"../data/pgn/kasparov_1798.pgn\")\n",
    "bg = BoardGenerator(pgn)\n",
    "boards = bg.get_boards()"
   ]
  },
  {
   "cell_type": "code",
   "execution_count": 16,
   "id": "dirty-mitchell",
   "metadata": {},
   "outputs": [],
   "source": [
    "class SSComposite:\n",
    "    \"\"\" class for compositing a board onto a screenshot\"\"\"\n",
    "    \n",
    "    def __init__(self, df, output_dir):\n",
    "        self.df = df\n",
    "        self.output_dir = output_dir\n",
    "        self.anno = {}\n",
    "        self.anno['train'] = []\n",
    "        self.anno['test'] = []\n",
    "        self.anno['valid'] = []\n",
    "\n",
    "    def composite(self):\n",
    "        \"\"\" composite boards with screenshot\"\"\"\n",
    "        \n",
    "        for _, row in df.iterrows():\n",
    "            image_f = row['image_f']\n",
    "            dataset = row['dataset']\n",
    "            board = row['board']\n",
    "            \n",
    "            # BUG IS HERE\n",
    "            min_size = 100\n",
    "            image = Image.open(image_f.as_posix())\n",
    "\n",
    "            x = randint(0, image.size[0] - min_size)\n",
    "            y = randint(0, image.size[1] - min_size)\n",
    "            max_size = min(image.size[0] - x, image.size[1] - y)\n",
    "            board_size = randint(min_size, max_size)\n",
    "            board_image =  Image.open(BytesIO(self._render_board(board, board_size)))\n",
    "            image.paste(board_image, (x, y))\n",
    "\n",
    "            # adjust x y so it's at center of board as excepted by createml\n",
    "            coord = {'x': x + int(board_size/2),\n",
    "                 'y': y + int(board_size/2),\n",
    "                 'width': board_size,\n",
    "                 'height': board_size}\n",
    "            \n",
    "            image.save(f\"{self.output_dir}/{dataset}/{image_f.name}\")\n",
    "            self.anno[dataset].append({\n",
    "                'image': image_f.name, \n",
    "                'annotations': [{'label': 'chessboard', \"coordinates\": coord}]\n",
    "            })\n",
    "            \n",
    "    def save_annotations(self):\n",
    "        for o in ['train', 'test', 'valid']:\n",
    "            with open(f'{self.output_dir}/{o}/{o}.json', 'w') as json_file:\n",
    "                json.dump(self.anno[o], json_file)\n",
    "    \n",
    "    def _render_board(self, board, size):\n",
    "        s = chess.svg.board(board,\n",
    "                            size=size,\n",
    "                            coordinates=randint(0, 1),\n",
    "                            orientation=randint(0, 1))\n",
    "        return svg2png(bytestring = s)"
   ]
  },
  {
   "cell_type": "code",
   "execution_count": 17,
   "id": "armed-presentation",
   "metadata": {},
   "outputs": [],
   "source": [
    "data = Path(\"/home/idris/.fastai/data/websitescreenshots\")\n",
    "data_out = Path(\"/home/idris/.fastai/data/chess_screenshots\")"
   ]
  },
  {
   "cell_type": "code",
   "execution_count": 18,
   "id": "dated-breakdown",
   "metadata": {},
   "outputs": [],
   "source": [
    "createml = Path(data/\"test/_annotations.createml.json\")"
   ]
  },
  {
   "cell_type": "code",
   "execution_count": 19,
   "id": "infrared-perception",
   "metadata": {},
   "outputs": [],
   "source": [
    "def get_images(folder):\n",
    "    return [_ for _ in data.glob(f\"{folder}/*.jpg\") if not _.name.startswith('._')]\n",
    "\n",
    "train_imgs = get_images('train')\n",
    "test_imgs = get_images('test')\n",
    "val_imgs = get_images('valid')"
   ]
  },
  {
   "cell_type": "code",
   "execution_count": 20,
   "id": "affected-oracle",
   "metadata": {},
   "outputs": [],
   "source": [
    "a = list(zip_longest(train_imgs, [], fillvalue='train'))\n",
    "b = list(zip_longest(test_imgs, [], fillvalue='test'))\n",
    "c = list(zip_longest(val_imgs, [], fillvalue='valid'))\n",
    "a.extend(b)\n",
    "a.extend(c)\n",
    "comps = zip([_[0] for _ in a], [_[1] for _ in a], boards)"
   ]
  },
  {
   "cell_type": "code",
   "execution_count": 21,
   "id": "pleased-vocabulary",
   "metadata": {},
   "outputs": [],
   "source": [
    "df = pd.DataFrame(list(comps), columns=['image_f', 'dataset', 'board'])"
   ]
  },
  {
   "cell_type": "code",
   "execution_count": 22,
   "id": "accepting-controversy",
   "metadata": {},
   "outputs": [],
   "source": [
    "ss = SSComposite(df[:10], data_out)\n",
    "ss.composite()"
   ]
  },
  {
   "cell_type": "code",
   "execution_count": 23,
   "id": "adjustable-marble",
   "metadata": {},
   "outputs": [],
   "source": [
    "ss.save_annotations()"
   ]
  },
  {
   "cell_type": "code",
   "execution_count": 12,
   "id": "incredible-senior",
   "metadata": {},
   "outputs": [
    {
     "data": {
      "text/html": [
       "<div>\n",
       "<style scoped>\n",
       "    .dataframe tbody tr th:only-of-type {\n",
       "        vertical-align: middle;\n",
       "    }\n",
       "\n",
       "    .dataframe tbody tr th {\n",
       "        vertical-align: top;\n",
       "    }\n",
       "\n",
       "    .dataframe thead th {\n",
       "        text-align: right;\n",
       "    }\n",
       "</style>\n",
       "<table border=\"1\" class=\"dataframe\">\n",
       "  <thead>\n",
       "    <tr style=\"text-align: right;\">\n",
       "      <th></th>\n",
       "      <th>image_f</th>\n",
       "      <th>dataset</th>\n",
       "      <th>board</th>\n",
       "    </tr>\n",
       "  </thead>\n",
       "  <tbody>\n",
       "    <tr>\n",
       "      <th>0</th>\n",
       "      <td>/home/idris/.fastai/data/websitescreenshots/tr...</td>\n",
       "      <td>train</td>\n",
       "      <td>r n b q k b n r\\np p p p p p p p\\n. . . . . . ...</td>\n",
       "    </tr>\n",
       "    <tr>\n",
       "      <th>1</th>\n",
       "      <td>/home/idris/.fastai/data/websitescreenshots/tr...</td>\n",
       "      <td>train</td>\n",
       "      <td>r n b q k b n r\\np p p p . p p p\\n. . . . p . ...</td>\n",
       "    </tr>\n",
       "    <tr>\n",
       "      <th>2</th>\n",
       "      <td>/home/idris/.fastai/data/websitescreenshots/tr...</td>\n",
       "      <td>train</td>\n",
       "      <td>r n b q k b n r\\np p p p . p p p\\n. . . . p . ...</td>\n",
       "    </tr>\n",
       "    <tr>\n",
       "      <th>3</th>\n",
       "      <td>/home/idris/.fastai/data/websitescreenshots/tr...</td>\n",
       "      <td>train</td>\n",
       "      <td>r n b q k b n r\\np p p . . p p p\\n. . . . p . ...</td>\n",
       "    </tr>\n",
       "    <tr>\n",
       "      <th>4</th>\n",
       "      <td>/home/idris/.fastai/data/websitescreenshots/tr...</td>\n",
       "      <td>train</td>\n",
       "      <td>r n b q k b n r\\np p p . . p p p\\n. . . . p . ...</td>\n",
       "    </tr>\n",
       "    <tr>\n",
       "      <th>5</th>\n",
       "      <td>/home/idris/.fastai/data/websitescreenshots/tr...</td>\n",
       "      <td>train</td>\n",
       "      <td>r . b q k b n r\\np p p . . p p p\\n. . n . p . ...</td>\n",
       "    </tr>\n",
       "    <tr>\n",
       "      <th>6</th>\n",
       "      <td>/home/idris/.fastai/data/websitescreenshots/tr...</td>\n",
       "      <td>train</td>\n",
       "      <td>r . b q k b n r\\np p p . . p p p\\n. . n . p . ...</td>\n",
       "    </tr>\n",
       "    <tr>\n",
       "      <th>7</th>\n",
       "      <td>/home/idris/.fastai/data/websitescreenshots/tr...</td>\n",
       "      <td>train</td>\n",
       "      <td>r . b q k b . r\\np p p . . p p p\\n. . n . p . ...</td>\n",
       "    </tr>\n",
       "    <tr>\n",
       "      <th>8</th>\n",
       "      <td>/home/idris/.fastai/data/websitescreenshots/tr...</td>\n",
       "      <td>train</td>\n",
       "      <td>r . b q k b . r\\np p p . . p p p\\n. . n . p . ...</td>\n",
       "    </tr>\n",
       "    <tr>\n",
       "      <th>9</th>\n",
       "      <td>/home/idris/.fastai/data/websitescreenshots/tr...</td>\n",
       "      <td>train</td>\n",
       "      <td>r . b q k b . r\\np p p . . . p p\\n. . n . p p ...</td>\n",
       "    </tr>\n",
       "  </tbody>\n",
       "</table>\n",
       "</div>"
      ],
      "text/plain": [
       "                                             image_f dataset  \\\n",
       "0  /home/idris/.fastai/data/websitescreenshots/tr...   train   \n",
       "1  /home/idris/.fastai/data/websitescreenshots/tr...   train   \n",
       "2  /home/idris/.fastai/data/websitescreenshots/tr...   train   \n",
       "3  /home/idris/.fastai/data/websitescreenshots/tr...   train   \n",
       "4  /home/idris/.fastai/data/websitescreenshots/tr...   train   \n",
       "5  /home/idris/.fastai/data/websitescreenshots/tr...   train   \n",
       "6  /home/idris/.fastai/data/websitescreenshots/tr...   train   \n",
       "7  /home/idris/.fastai/data/websitescreenshots/tr...   train   \n",
       "8  /home/idris/.fastai/data/websitescreenshots/tr...   train   \n",
       "9  /home/idris/.fastai/data/websitescreenshots/tr...   train   \n",
       "\n",
       "                                               board  \n",
       "0  r n b q k b n r\\np p p p p p p p\\n. . . . . . ...  \n",
       "1  r n b q k b n r\\np p p p . p p p\\n. . . . p . ...  \n",
       "2  r n b q k b n r\\np p p p . p p p\\n. . . . p . ...  \n",
       "3  r n b q k b n r\\np p p . . p p p\\n. . . . p . ...  \n",
       "4  r n b q k b n r\\np p p . . p p p\\n. . . . p . ...  \n",
       "5  r . b q k b n r\\np p p . . p p p\\n. . n . p . ...  \n",
       "6  r . b q k b n r\\np p p . . p p p\\n. . n . p . ...  \n",
       "7  r . b q k b . r\\np p p . . p p p\\n. . n . p . ...  \n",
       "8  r . b q k b . r\\np p p . . p p p\\n. . n . p . ...  \n",
       "9  r . b q k b . r\\np p p . . . p p\\n. . n . p p ...  "
      ]
     },
     "execution_count": 12,
     "metadata": {},
     "output_type": "execute_result"
    }
   ],
   "source": [
    "df[:10]"
   ]
  },
  {
   "cell_type": "code",
   "execution_count": null,
   "id": "nasty-throat",
   "metadata": {},
   "outputs": [],
   "source": []
  }
 ],
 "metadata": {
  "kernelspec": {
   "display_name": "Python 3",
   "language": "python",
   "name": "python3"
  },
  "language_info": {
   "codemirror_mode": {
    "name": "ipython",
    "version": 3
   },
   "file_extension": ".py",
   "mimetype": "text/x-python",
   "name": "python",
   "nbconvert_exporter": "python",
   "pygments_lexer": "ipython3",
   "version": "3.7.4"
  }
 },
 "nbformat": 4,
 "nbformat_minor": 5
}
