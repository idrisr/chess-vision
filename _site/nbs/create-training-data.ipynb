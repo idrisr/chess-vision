{
 "cells": [
  {
   "cell_type": "code",
   "execution_count": 1,
   "id": "different-sudan",
   "metadata": {},
   "outputs": [],
   "source": [
    "from board import *\n",
    "from PIL import Image\n",
    "from collections import namedtuple\n",
    "from typing import Tuple\n",
    "from pathlib import Path"
   ]
  },
  {
   "cell_type": "code",
   "execution_count": 2,
   "id": "processed-premiere",
   "metadata": {},
   "outputs": [],
   "source": [
    "Coord = namedtuple('coord', 'file rank')\n",
    "CropBox = Tuple[float, float, float, float]"
   ]
  },
  {
   "cell_type": "code",
   "execution_count": 3,
   "id": "governing-spring",
   "metadata": {},
   "outputs": [],
   "source": [
    "def get_coord(name) -> Coord:\n",
    "    \"\"\" name: 2 character coordinate of board square. A8, h3, f4, etc \"\"\"\n",
    "    file, rank = name.lower()[0], name.lower()[1]\n",
    "    assert file in ['a', 'b', 'c', 'd', 'e', 'f', 'g', 'h']\n",
    "    assert rank in ['1', '2', '3', '4', '5', '6', '7', '8']\n",
    "    return Coord(rank=rank, file=file)"
   ]
  },
  {
   "cell_type": "code",
   "execution_count": 4,
   "id": "interim-value",
   "metadata": {},
   "outputs": [],
   "source": [
    "def get_crop_box(coord: Coord, height: float, width: float) -> CropBox:\n",
    "    \"\"\" \n",
    "    coord: board coordinate, a8, h3, f4, etc\n",
    "    height: float of board image height\n",
    "    width: float of board image width\n",
    "    \"\"\"\n",
    "    \n",
    "    origin_y = (8 - int(coord.rank)) * height / 8\n",
    "    origin_x = int(ord(coord.file) - ord('a')) * width / 8\n",
    "    return (origin_x, origin_y, origin_x + width / 8, origin_y + height / 8)"
   ]
  },
  {
   "cell_type": "code",
   "execution_count": 5,
   "id": "related-reynolds",
   "metadata": {},
   "outputs": [],
   "source": [
    "def get_image(coord, img):\n",
    "    cropbox = get_crop_box(coord, img.height, img.width)\n",
    "    return img.crop(cropbox)"
   ]
  },
  {
   "cell_type": "markdown",
   "id": "opposed-boost",
   "metadata": {},
   "source": [
    "## black\n",
    "* king e8\n",
    "* queen d8\n",
    "* knight b8, g8\n",
    "* rook a8, h8\n",
    "* bishop c8, f8\n",
    "* pawn a7-h7\n",
    "\n",
    "\n",
    "## white\n",
    "* king e1\n",
    "* queen d1\n",
    "* knight b1, g1\n",
    "* rook a1, h1\n",
    "* bishop c1, f1\n",
    "* pawn a2-h2\n",
    "\n",
    "## empty\n",
    "* a3 - h6"
   ]
  },
  {
   "cell_type": "markdown",
   "id": "handy-happiness",
   "metadata": {},
   "source": [
    "## should i model the pieces as different colors, or no?\n",
    "\n",
    "ultimately what's white and what's black is relative to the playing set. What is white in one set, could be black in another set where it's the darker color. So instead just classify the pieces, and then use relative coloring to figure out whether it's white or black on that set.\n"
   ]
  },
  {
   "cell_type": "code",
   "execution_count": 6,
   "id": "acquired-broadcast",
   "metadata": {},
   "outputs": [],
   "source": [
    "p = {'king': ['e1', 'e8'], 'queen': ['d1', 'd8'], 'knight': ['b1', 'g1', 'b8', 'g8'], 'rook': ['a1', 'h1', 'a8', 'h8'], 'bishop': ['c1', 'f1', 'c8', 'f8'], 'pawn': ['a2', 'b2', 'c2', 'd2', 'e2', 'f2', 'g2', 'h2', 'a7', 'b7', 'c7', 'd7', 'e7', 'f7', 'g7', 'h7']}"
   ]
  },
  {
   "cell_type": "code",
   "execution_count": 7,
   "id": "incident-richardson",
   "metadata": {},
   "outputs": [],
   "source": [
    "files = ['a', 'b', 'c', 'd', 'e', 'f', 'g', 'h']\n",
    "ranks = range(3, 7)\n",
    "none = {'none': [f'{file}{rank}' for file in files for rank in ranks]}"
   ]
  },
  {
   "cell_type": "code",
   "execution_count": 8,
   "id": "secondary-estimate",
   "metadata": {},
   "outputs": [],
   "source": [
    "piece_location = {**p, **none}"
   ]
  },
  {
   "cell_type": "raw",
   "id": "professional-buddy",
   "metadata": {},
   "source": [
    "* loop through all images\n",
    "    * loop through all pieces\n",
    "        * for piece, save into proper folder"
   ]
  },
  {
   "cell_type": "code",
   "execution_count": 9,
   "id": "compact-lincoln",
   "metadata": {},
   "outputs": [],
   "source": [
    "for piece in piece_location.keys():\n",
    "    p = Path(f'./data/training/{piece}')\n",
    "    if not p.exists():\n",
    "        p.mkdir(mode=0o777, parents=True, exist_ok=False)"
   ]
  },
  {
   "cell_type": "code",
   "execution_count": 10,
   "id": "liable-trinity",
   "metadata": {},
   "outputs": [],
   "source": [
    "boards = Path('./data/_board')"
   ]
  },
  {
   "cell_type": "code",
   "execution_count": 12,
   "id": "amazing-turning",
   "metadata": {},
   "outputs": [],
   "source": [
    "for board in boards.glob(\"*.png\"):\n",
    "    img = Image.open(board)\n",
    "    for piece, locations in piece_location.items():\n",
    "        path = Path(f'./data/training/{piece}')\n",
    "        for location in locations:\n",
    "            files = list(path.glob('*.png'))\n",
    "            if not files:\n",
    "                new_file = '0'\n",
    "            else:\n",
    "                # todo: store the max for each piece instead of recalcing it each time\n",
    "                new_file = int(sorted(list(path.glob('*png')), key=lambda x: int(x.stem))[-1].stem) + 1 # hack\n",
    "                \n",
    "            save_path = Path(f'./data/training/{piece}/{new_file}.png')\n",
    "            coord = get_coord(location)\n",
    "            piece_image = get_image(coord, img)\n",
    "            piece_image.save(save_path)"
   ]
  },
  {
   "cell_type": "code",
   "execution_count": null,
   "id": "functioning-bracelet",
   "metadata": {},
   "outputs": [],
   "source": []
  }
 ],
 "metadata": {
  "kernelspec": {
   "display_name": "Python 3",
   "language": "python",
   "name": "python3"
  },
  "language_info": {
   "codemirror_mode": {
    "name": "ipython",
    "version": 3
   },
   "file_extension": ".py",
   "mimetype": "text/x-python",
   "name": "python",
   "nbconvert_exporter": "python",
   "pygments_lexer": "ipython3",
   "version": "3.7.4"
  }
 },
 "nbformat": 4,
 "nbformat_minor": 5
}
