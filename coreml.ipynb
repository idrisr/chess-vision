{
 "cells": [
  {
   "cell_type": "code",
   "execution_count": 1,
   "id": "municipal-matrix",
   "metadata": {},
   "outputs": [
    {
     "name": "stderr",
     "output_type": "stream",
     "text": [
      "WARNING:root:scikit-learn version 0.24.1 is not supported. Minimum required version: 0.17. Maximum required version: 0.19.2. Disabling scikit-learn conversion API.\n"
     ]
    }
   ],
   "source": [
    "import coremltools as ct\n",
    "from pathlib import Path\n",
    "from fastai.data.transforms import get_image_files\n",
    "import numpy as np\n",
    "from PIL import ImageDraw, Image"
   ]
  },
  {
   "cell_type": "code",
   "execution_count": 2,
   "id": "superior-cartoon",
   "metadata": {},
   "outputs": [
    {
     "data": {
      "text/plain": [
       "True"
      ]
     },
     "execution_count": 2,
     "metadata": {},
     "output_type": "execute_result"
    }
   ],
   "source": [
    "m_u = Path(\"/Users/id/nassync/2050-chess-vision/chess-detection/ChessBoardDetector.mlproj/Models/ChessBoardDetector 1.mlmodel\")\n",
    "im_u = Path(\"/Users/id/.fastai/data/chess_screenshots/test\")\n",
    "m_u.exists()"
   ]
  },
  {
   "cell_type": "code",
   "execution_count": 3,
   "id": "spanish-encoding",
   "metadata": {},
   "outputs": [],
   "source": [
    "model = ct.models.MLModel(m_u.as_posix())"
   ]
  },
  {
   "cell_type": "code",
   "execution_count": 4,
   "id": "seeing-administrator",
   "metadata": {},
   "outputs": [],
   "source": [
    "im_us = get_image_files(im_u)"
   ]
  },
  {
   "cell_type": "code",
   "execution_count": 6,
   "id": "heard-bahrain",
   "metadata": {},
   "outputs": [],
   "source": [
    "def load_image(path, resize_to=None):\n",
    "    img = Image.open(path)\n",
    "    if resize_to is not None:\n",
    "        img = img.resize(resize_to, PIL.Image.ANTIALIAS)\n",
    "    img_np = np.array(img).astype(np.float32)\n",
    "    return img_np, img"
   ]
  },
  {
   "cell_type": "code",
   "execution_count": 7,
   "id": "incoming-intensity",
   "metadata": {},
   "outputs": [],
   "source": [
    "def draw_rect(img, prediction):\n",
    "    coord = convert_coord(out_dict['coordinates'], img.size[0])\n",
    "    draw = ImageDraw.Draw(img)\n",
    "    draw.rectangle(coord, outline='red')"
   ]
  },
  {
   "cell_type": "code",
   "execution_count": 8,
   "id": "continuing-cable",
   "metadata": {},
   "outputs": [],
   "source": [
    "def convert_coord(coord, img_size):\n",
    "    \"\"\" convert coordinates from prediction space to image space \"\"\"\n",
    "    coord = out_dict['coordinates'][0:,]\n",
    "    x, y, w, h = list(np.ravel(coord) * img_size[0])\n",
    "    x = x - w/2\n",
    "    y = y - h/2\n",
    "    return (x, y, w, h)"
   ]
  },
  {
   "cell_type": "code",
   "execution_count": 12,
   "id": "pressing-communist",
   "metadata": {},
   "outputs": [
    {
     "data": {
      "text/plain": [
       "[name: \"imagePath\"\n",
       "shortDescription: \"Input image\"\n",
       "type {\n",
       "  imageType {\n",
       "    width: 416\n",
       "    height: 416\n",
       "    colorSpace: RGB\n",
       "  }\n",
       "}\n",
       ", name: \"iouThreshold\"\n",
       "shortDescription: \"The maximum allowed overlap (as intersection-over-union ratio) for any pair of output bounding boxes (default: 0.45)\"\n",
       "type {\n",
       "  doubleType {\n",
       "  }\n",
       "  isOptional: true\n",
       "}\n",
       ", name: \"confidenceThreshold\"\n",
       "shortDescription: \"The minimum confidence score for an output bounding box (default: 0.25)\"\n",
       "type {\n",
       "  doubleType {\n",
       "  }\n",
       "  isOptional: true\n",
       "}\n",
       "]"
      ]
     },
     "execution_count": 12,
     "metadata": {},
     "output_type": "execute_result"
    }
   ],
   "source": [
    "model.get_spec().description.input"
   ]
  },
  {
   "cell_type": "code",
   "execution_count": 18,
   "id": "western-disclosure",
   "metadata": {},
   "outputs": [
    {
     "ename": "AttributeError",
     "evalue": "'_FeatureDescription' object has no attribute 'imagePath'",
     "output_type": "error",
     "traceback": [
      "\u001b[0;31m---------------------------------------------------------------------------\u001b[0m",
      "\u001b[0;31mAttributeError\u001b[0m                            Traceback (most recent call last)",
      "\u001b[0;32m<ipython-input-18-d0940d85f918>\u001b[0m in \u001b[0;36m<module>\u001b[0;34m\u001b[0m\n\u001b[0;32m----> 1\u001b[0;31m \u001b[0mmodel\u001b[0m\u001b[0;34m.\u001b[0m\u001b[0minput_description\u001b[0m\u001b[0;34m.\u001b[0m\u001b[0mimagePath\u001b[0m\u001b[0;34m\u001b[0m\u001b[0;34m\u001b[0m\u001b[0m\n\u001b[0m",
      "\u001b[0;31mAttributeError\u001b[0m: '_FeatureDescription' object has no attribute 'imagePath'"
     ]
    }
   ],
   "source": [
    "model.input_description.imagePath"
   ]
  },
  {
   "cell_type": "code",
   "execution_count": 10,
   "id": "olive-weapon",
   "metadata": {},
   "outputs": [
    {
     "ename": "NameError",
     "evalue": "name 'input_shape' is not defined",
     "output_type": "error",
     "traceback": [
      "\u001b[0;31m---------------------------------------------------------------------------\u001b[0m",
      "\u001b[0;31mNameError\u001b[0m                                 Traceback (most recent call last)",
      "\u001b[0;32m<ipython-input-10-3b0032d5be8a>\u001b[0m in \u001b[0;36m<module>\u001b[0;34m\u001b[0m\n\u001b[0;32m----> 1\u001b[0;31m \u001b[0mimg_np\u001b[0m\u001b[0;34m,\u001b[0m \u001b[0mimg\u001b[0m \u001b[0;34m=\u001b[0m \u001b[0mload_image\u001b[0m\u001b[0;34m(\u001b[0m\u001b[0mim_us\u001b[0m\u001b[0;34m[\u001b[0m\u001b[0;36m40\u001b[0m\u001b[0;34m]\u001b[0m\u001b[0;34m,\u001b[0m \u001b[0minput_shape\u001b[0m\u001b[0;34m)\u001b[0m\u001b[0;34m\u001b[0m\u001b[0;34m\u001b[0m\u001b[0m\n\u001b[0m\u001b[1;32m      2\u001b[0m \u001b[0mimg\u001b[0m\u001b[0;34m\u001b[0m\u001b[0;34m\u001b[0m\u001b[0m\n",
      "\u001b[0;31mNameError\u001b[0m: name 'input_shape' is not defined"
     ]
    }
   ],
   "source": [
    "img_np, img = load_image(im_us[40], input_shape)\n",
    "img"
   ]
  },
  {
   "cell_type": "code",
   "execution_count": 11,
   "id": "wrapped-management",
   "metadata": {},
   "outputs": [
    {
     "ename": "NameError",
     "evalue": "name 'img' is not defined",
     "output_type": "error",
     "traceback": [
      "\u001b[0;31m---------------------------------------------------------------------------\u001b[0m",
      "\u001b[0;31mNameError\u001b[0m                                 Traceback (most recent call last)",
      "\u001b[0;32m<ipython-input-11-0b212599a163>\u001b[0m in \u001b[0;36m<module>\u001b[0;34m\u001b[0m\n\u001b[0;32m----> 1\u001b[0;31m \u001b[0mout_dict\u001b[0m \u001b[0;34m=\u001b[0m \u001b[0mmodel\u001b[0m\u001b[0;34m.\u001b[0m\u001b[0mpredict\u001b[0m\u001b[0;34m(\u001b[0m\u001b[0;34m{\u001b[0m\u001b[0;34m\"imagePath\"\u001b[0m\u001b[0;34m:\u001b[0m \u001b[0mimg\u001b[0m\u001b[0;34m}\u001b[0m\u001b[0;34m)\u001b[0m\u001b[0;34m\u001b[0m\u001b[0;34m\u001b[0m\u001b[0m\n\u001b[0m",
      "\u001b[0;31mNameError\u001b[0m: name 'img' is not defined"
     ]
    }
   ],
   "source": [
    "out_dict = model.predict({\"imagePath\": img})"
   ]
  },
  {
   "cell_type": "code",
   "execution_count": null,
   "id": "numeric-luther",
   "metadata": {},
   "outputs": [],
   "source": [
    "draw_rect(img, out_dict)"
   ]
  }
 ],
 "metadata": {
  "kernelspec": {
   "display_name": "Python 3",
   "language": "python",
   "name": "python3"
  },
  "language_info": {
   "codemirror_mode": {
    "name": "ipython",
    "version": 3
   },
   "file_extension": ".py",
   "mimetype": "text/x-python",
   "name": "python",
   "nbconvert_exporter": "python",
   "pygments_lexer": "ipython3",
   "version": "3.7.4"
  }
 },
 "nbformat": 4,
 "nbformat_minor": 5
}
