{
 "cells": [
  {
   "cell_type": "code",
   "execution_count": 39,
   "id": "different-sudan",
   "metadata": {},
   "outputs": [],
   "source": [
    "from board import *\n",
    "from PIL import Image\n",
    "from collections import namedtuple\n",
    "from typing import Tuple\n",
    "from pathlib import Path\n",
    "from IPython import display\n",
    "from enum import Enum\n",
    "from matplotlib.pyplot import imshow\n",
    "import os\n",
    "from functools import reduce\n",
    "from operator import iconcat"
   ]
  },
  {
   "cell_type": "code",
   "execution_count": 4,
   "id": "processed-premiere",
   "metadata": {},
   "outputs": [],
   "source": [
    "Coord = namedtuple('coord', 'file rank')\n",
    "CropBox = Tuple[float, float, float, float]"
   ]
  },
  {
   "cell_type": "code",
   "execution_count": 5,
   "id": "painted-outline",
   "metadata": {},
   "outputs": [],
   "source": [
    "class Color(Enum):\n",
    "    white = 0\n",
    "    black = 1\n",
    "\n",
    "class Piece(Enum):\n",
    "    bishop = 0\n",
    "    knight = 1\n",
    "    rook = 2\n",
    "    queen = 3\n",
    "    king = 4\n",
    "    pawn = 5\n",
    "    empty = 6 "
   ]
  },
  {
   "cell_type": "code",
   "execution_count": 29,
   "id": "collected-memory",
   "metadata": {},
   "outputs": [],
   "source": [
    "class BoardImage:\n",
    "    image: Image\n",
    "\n",
    "    def __init__(self, path):\n",
    "        \"\"\" only works for starting position, with white on bottom\"\"\"\n",
    "        self.path = path\n",
    "        self.image = Image.open(path)    \n",
    "        \n",
    "    _coordinates = {Piece.king: ['e1', 'e8'], \n",
    "             Piece.queen: ['d1', 'd8'], \n",
    "             Piece.knight: ['b1', 'g1', 'b8', 'g8'], \n",
    "             Piece.rook: ['a1', 'h1', 'a8', 'h8'], \n",
    "             Piece.bishop: ['c1', 'f1', 'c8', 'f8'], \n",
    "             Piece.pawn: ['a2', 'b2', 'c2', 'd2', 'e2', 'f2', 'g2', 'h2', \n",
    "                          'a7', 'b7', 'c7', 'd7', 'e7', 'f7', 'g7', 'h7'],\n",
    "             Piece.empty: ['a3', 'b3', 'c3', 'd3', 'e3', 'f3', 'g3', 'h3',\n",
    "                           'a4', 'b4', 'c4', 'd4', 'e4', 'f4', 'g4', 'h4',\n",
    "                           'a5', 'b5', 'c5', 'd5', 'e5', 'f5', 'g5', 'h5',\n",
    "                           'a6', 'b6', 'c6', 'd6', 'e6', 'f6', 'g6', 'h6']\n",
    "                   }\n",
    "    \n",
    "    \n",
    "    def _get_crop_box(self, coord: Coord) -> CropBox:\n",
    "        \"\"\" \n",
    "        coord: board coordinate, a8, h3, f4, etc\n",
    "        height: float of board image height\n",
    "        width: float of board image width\n",
    "\n",
    "        output: rectangle cooridates for a8, h3, f4\n",
    "        \"\"\"\n",
    "        \n",
    "        width = self.image.width\n",
    "        height = self.image.height\n",
    "        origin_y = (8 - int(coord.rank)) * height / 8\n",
    "        origin_x = int(ord(coord.file) - ord('a')) * width / 8\n",
    "        return (origin_x, origin_y, origin_x + width / 8, origin_y + height / 8)\n",
    "    \n",
    "    \n",
    "    def get_square(self, coord):\n",
    "        coord = get_coord(coord)\n",
    "        cropbox = self._get_crop_box(coord)\n",
    "        return self.image.crop(cropbox)\n",
    "        \n",
    "    def get_pieces(self, piece):\n",
    "        return [self.get_square(_) for _ in self._coordinates[piece]]\n",
    "    \n",
    "    def get_all_pieces(self):\n",
    "        raise NotImplemented        \n",
    "    \n",
    "    def get_black_pieces(self, color):\n",
    "        raise NotImplemented\n",
    "    \n",
    "    def get_white_pieces(self, piece, color):\n",
    "        raise NotImplemented\n",
    "    \n",
    "    def get_empty_squares(self):\n",
    "        raise NotImplemented\n",
    "    \n",
    "    def __repr__(self):\n",
    "        return self.path.as_posix()"
   ]
  },
  {
   "cell_type": "raw",
   "id": "gentle-spider",
   "metadata": {},
   "source": [
    "input: \n",
    "    screenshot of board\n",
    "output: \n",
    "    64 images of each square, labeled with piece name\n",
    "input: \n",
    "    image with label\n",
    "io:\n",
    "    save image to proper directory"
   ]
  },
  {
   "cell_type": "code",
   "execution_count": 73,
   "id": "governing-spring",
   "metadata": {},
   "outputs": [],
   "source": [
    "def get_coord(name) -> Coord:\n",
    "    \"\"\" name: 2 character coordinate of board square. A8, h3, f4, etc \"\"\"\n",
    "    file, rank = name.lower()[0], name.lower()[1]\n",
    "    assert file in ['a', 'b', 'c', 'd', 'e', 'f', 'g', 'h']\n",
    "    assert rank in ['1', '2', '3', '4', '5', '6', '7', '8']\n",
    "    return Coord(rank=rank, file=file)"
   ]
  },
  {
   "cell_type": "code",
   "execution_count": 74,
   "id": "demonstrated-frontier",
   "metadata": {},
   "outputs": [],
   "source": [
    "board = Path('data/_board/CleanShot 2021-03-28 at 21.36.07@2x.png')\n",
    "board = Path('/Users/id/nassync/2051-chess-vision-blog-post/board.png')"
   ]
  },
  {
   "cell_type": "code",
   "execution_count": 75,
   "id": "scenic-shield",
   "metadata": {},
   "outputs": [],
   "source": [
    "bi = BoardImage(board)\n",
    "pieces = reduce(iconcat, [bi.get_pieces(o) for o in Piece], [])"
   ]
  },
  {
   "cell_type": "code",
   "execution_count": 76,
   "id": "stunning-midwest",
   "metadata": {},
   "outputs": [],
   "source": [
    "output = Path('data/blogpost/')\n",
    "if not output.exists():\n",
    "    output.mkdir()"
   ]
  },
  {
   "cell_type": "code",
   "execution_count": 77,
   "id": "tropical-commissioner",
   "metadata": {},
   "outputs": [],
   "source": [
    "_ = [o.save(output/f\"{i}.png\") for i, o in enumerate(pieces)]"
   ]
  }
 ],
 "metadata": {
  "kernelspec": {
   "display_name": "Python 3",
   "language": "python",
   "name": "python3"
  },
  "language_info": {
   "codemirror_mode": {
    "name": "ipython",
    "version": 3
   },
   "file_extension": ".py",
   "mimetype": "text/x-python",
   "name": "python",
   "nbconvert_exporter": "python",
   "pygments_lexer": "ipython3",
   "version": "3.7.4"
  }
 },
 "nbformat": 4,
 "nbformat_minor": 5
}
